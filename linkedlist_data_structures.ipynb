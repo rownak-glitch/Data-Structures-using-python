{
  "nbformat": 4,
  "nbformat_minor": 0,
  "metadata": {
    "colab": {
      "name": "linkedlist data structures.ipynb",
      "provenance": [],
      "authorship_tag": "ABX9TyNNIYUg9Rs6lCzJyYamoXhH",
      "include_colab_link": true
    },
    "kernelspec": {
      "name": "python3",
      "display_name": "Python 3"
    },
    "language_info": {
      "name": "python"
    }
  },
  "cells": [
    {
      "cell_type": "markdown",
      "metadata": {
        "id": "view-in-github",
        "colab_type": "text"
      },
      "source": [
        "<a href=\"https://colab.research.google.com/github/rownak-glitch/Data-Structures-using-python/blob/master/linkedlist_data_structures.ipynb\" target=\"_parent\"><img src=\"https://colab.research.google.com/assets/colab-badge.svg\" alt=\"Open In Colab\"/></a>"
      ]
    },
    {
      "cell_type": "code",
      "metadata": {
        "colab": {
          "base_uri": "https://localhost:8080/"
        },
        "id": "8SyWBWpdj2Qd",
        "outputId": "0c4fb7ee-2027-4748-a08e-90756f7bdfce"
      },
      "source": [
        "class Car:\n",
        "  def __init__(self,name,year,color,sound): #constructor declare \n",
        "    self.name = name  # self diye global variable a set kore\n",
        "    self.year =year\n",
        "    self.color =color\n",
        "    self.sound = sound\n",
        "\n",
        "  def makeSound(self):\n",
        "    print(self.sound)\n",
        "\n",
        "car1= Car('Toyota',2016,'Black','Vroom')\n",
        "car2= Car(\"BMW\",2020, \"white\",'beep')\n",
        "print(car1.color)\n",
        "print(car2.name)\n"
      ],
      "execution_count": null,
      "outputs": [
        {
          "output_type": "stream",
          "text": [
            "Black\n",
            "BMW\n"
          ],
          "name": "stdout"
        }
      ]
    },
    {
      "cell_type": "code",
      "metadata": {
        "colab": {
          "base_uri": "https://localhost:8080/"
        },
        "id": "r2-wifcPlD0v",
        "outputId": "f9c17cf6-b8f7-4a83-e3e5-630dfcea902a"
      },
      "source": [
        "  \n",
        "\n",
        "car1.makeSound()"
      ],
      "execution_count": null,
      "outputs": [
        {
          "output_type": "stream",
          "text": [
            "Vroom\n"
          ],
          "name": "stdout"
        }
      ]
    },
    {
      "cell_type": "markdown",
      "metadata": {
        "id": "AWSU16Md_kpu"
      },
      "source": [
        "**linked** **list**"
      ]
    },
    {
      "cell_type": "code",
      "metadata": {
        "colab": {
          "base_uri": "https://localhost:8080/"
        },
        "id": "xFOOPdOU_o9O",
        "outputId": "b9338a11-f439-432d-8ddd-6c3579a9fe49"
      },
      "source": [
        "class node:\n",
        "  def __init__(self,data):\n",
        "    self.data= data  # a node will have 2 part one is data and the other is next ,data contains some value and next contains address of the next node \n",
        "    self.next= None  # at first we keep all the node none as all the nodes are not connected \n",
        "# putting data in the node\n",
        "node1 = node(10)\n",
        "node2 = node(25) \n",
        "node3 =node(30)\n",
        "\n",
        "# connecting the nodes with each other\n",
        "\n",
        "node1.next = node2\n",
        "node2.next = node3\n",
        "\n",
        "# when we print the linked list through iterating and since it has no index like an array. we do iteration by node1 = node1.next that is node1=node2[address of node2] \n",
        "#but if we keep on updating node1 it actual value will be vanished so we use a temporary variable like head \n",
        "\n",
        "head= node1\n",
        "\n",
        "#printing the linked list\n",
        "while (head!=None):\n",
        "  print(head.data)\n",
        "  head=head.next\n",
        "\n"
      ],
      "execution_count": null,
      "outputs": [
        {
          "output_type": "stream",
          "text": [
            "10\n",
            "25\n",
            "30\n"
          ],
          "name": "stdout"
        }
      ]
    },
    {
      "cell_type": "markdown",
      "metadata": {
        "id": "_jfp69wSf0tE"
      },
      "source": [
        "**Creating** **Linked List from Array**"
      ]
    },
    {
      "cell_type": "code",
      "metadata": {
        "colab": {
          "base_uri": "https://localhost:8080/"
        },
        "id": "o8BhLOBSfx6K",
        "outputId": "8260ee98-b2a6-4ca5-a18e-d3001dee0e9b"
      },
      "source": [
        "class node:\n",
        "  def __init__(self,data,next):\n",
        "    self.data=data\n",
        "    self.next=None\n",
        "\n",
        "class myList:\n",
        "  def __init__(self,a):\n",
        "    self.head=None\n",
        "    self.next=None\n",
        "    tail=None\n",
        "    for i in a:\n",
        "      n= node(i, None)\n",
        "      if self.head is None:\n",
        "        self.head=n\n",
        "        tail=n\n",
        "      else:\n",
        "        tail.next=n\n",
        "        tail=n\n",
        "\n",
        "  def showList(self):\n",
        "    x= self.head\n",
        "    while (x!=None):\n",
        "      print(x.data)\n",
        "      x=x.next\n",
        "\n",
        " \n",
        "\n",
        "  def isEmpty(self):\n",
        "        if self.head is None:\n",
        "            return True\n",
        "        else:\n",
        "            return False\n",
        "\n",
        "  def clear(self):\n",
        "        assert self.head != None, 'The list can not be empty'\n",
        "\n",
        "        x = self.head\n",
        "        while (x!=None):\n",
        "            prev = x.next\n",
        "            del x.data\n",
        "            x = prev\n",
        "\n",
        "  def insert(self, newElement):\n",
        "        newNode = node(newElement,None)\n",
        "        if self.head is None:\n",
        "          self.head = newNode\n",
        "        \n",
        "        last = self.head\n",
        "        while(last.next):\n",
        "            last = last.next\n",
        "\n",
        "        if(last.data == newElement):\n",
        "            print('same key')\n",
        "        else:\n",
        "            last.next = newNode\n",
        "\n",
        "  def insertAt(self, newElement, index):\n",
        "      start = self.head\n",
        "      newNode = node(newElement,None)\n",
        "      if (index == 0):\n",
        "        self.head = newNode\n",
        "        \n",
        "      else:\n",
        "        start = self.head.next\n",
        "\n",
        "        newNode.next= start.next\n",
        "        start.next=newNode\n",
        "          \n",
        "        \n",
        "      if (start.data == newElement):\n",
        "        print('same key')\n",
        "          \n",
        "      else:\n",
        "        start.next = newNode\n",
        "\n",
        "  def remove(self,deletekey):\n",
        "        start = self.head\n",
        "        if (deletekey == 0):\n",
        "            val = start.data\n",
        "            start = start.next\n",
        "            return val\n",
        "        \n",
        "        while (deletekey-1 > 0):\n",
        "            start = start.next\n",
        "            deletekey -= 1\n",
        "        val = start.data # or maybe start.next.data sure na check kore nio\n",
        "        start.next = start.next.next\n",
        "        return val\n",
        "\n",
        "  def searchElement(self,element):\n",
        "    i=0\n",
        "    n=self.head\n",
        "    while (n!=None):\n",
        "      if n.data==element:\n",
        "        return True\n",
        "      else:\n",
        "        return False\n",
        "      i+=1\n",
        "      n=n.next\n",
        "\n",
        "  def evenNum(self):\n",
        "    i=0\n",
        "    n=self.head\n",
        "    newHead=None\n",
        "    newTail=None\n",
        "    while (n!=None):\n",
        "      if n.data % 2==0 :\n",
        "         newNode=node(n.data,None)\n",
        "         if (newHead==None):\n",
        "           newHead=newNode\n",
        "           newTail=newNode\n",
        "         else:\n",
        "           newTail.next=newNode\n",
        "           newTail=newNode\n",
        "      n=n.next\n",
        "    x= newHead\n",
        "    while (x!=None):\n",
        "      print(x.data)\n",
        "      x=x.next\n",
        "\n",
        "\n",
        "  def Reverse(self):\n",
        "    newHead=None\n",
        "    n=self.head\n",
        "    while (n!=None):\n",
        "      nextNode=n.next\n",
        "      n.next=newHead\n",
        "      newHead=n\n",
        "      n=nextNode\n",
        "    x= newHead\n",
        "    while(x!=None):\n",
        "      print(x.data)\n",
        "      x=x.next\n",
        "         \n",
        "  def Sort(self):\n",
        "    head=self.head\n",
        "    if head == None:\n",
        "          return None\n",
        "      #Make the first node the start of the sorted list.\n",
        "    sortedList= head\n",
        "    head=head.next\n",
        "    sortedList.next= None\n",
        "    while head != None:\n",
        "        curr= head\n",
        "        head=head.next\n",
        "        if curr.data<sortedList.data:\n",
        "              #Advance the nodes\n",
        "            curr.next= sortedList\n",
        "            sortedList= curr\n",
        "        else: \n",
        "              #Search list for correct position of current.\n",
        "            search= sortedList\n",
        "            while search.next!= None and curr.data > search.next.data:\n",
        "               search= search.next\n",
        "              #current goes after search.\n",
        "            curr.next= search.next\n",
        "            search.next= curr\n",
        "    x=sortedList\n",
        "    while(x!=None):\n",
        "       print(x.data)\n",
        "       x=x.next\n",
        "    \n",
        "  def sumOf (self):\n",
        "    sum=0\n",
        "    count=0\n",
        "    n=self.head\n",
        "    while (n!=None):\n",
        "      count=count+1\n",
        "      sum=sum + n.data\n",
        "      n=n.next\n",
        "    return sum\n",
        "\n",
        "  def rotate(self,k):\n",
        "    while (k):\n",
        "      oldhead=self.head\n",
        "      head=self.head.next\n",
        "      tail=self.head.next\n",
        "      while (tail!=None):\n",
        "        tail=tail.next\n",
        "      tail.next=oldhead\n",
        "      oldhead.next=None\n",
        "      x=head\n",
        "      while(x!=None):\n",
        "        print(x.data)\n",
        "        x=x.next\n",
        "      \n",
        "      k+=1\n",
        "    \n",
        "\n",
        "\n",
        "\n",
        "arr=[1,6,5,3]\n",
        "list1=myList(arr)\n",
        "list1.Sort()\n",
        "\n",
        "\n",
        "\n"
      ],
      "execution_count": null,
      "outputs": [
        {
          "output_type": "stream",
          "text": [
            "1\n",
            "3\n",
            "5\n",
            "6\n"
          ],
          "name": "stdout"
        }
      ]
    },
    {
      "cell_type": "code",
      "metadata": {
        "colab": {
          "base_uri": "https://localhost:8080/"
        },
        "id": "ANUci75S487F",
        "outputId": "ac450a31-b1bd-4571-b0f0-9a3dae1d5367"
      },
      "source": [
        "list1.insert(10)\n",
        "list1.showList()"
      ],
      "execution_count": null,
      "outputs": [
        {
          "output_type": "stream",
          "text": [
            "1\n",
            "6\n",
            "5\n",
            "3\n",
            "10\n"
          ],
          "name": "stdout"
        }
      ]
    },
    {
      "cell_type": "code",
      "metadata": {
        "colab": {
          "base_uri": "https://localhost:8080/"
        },
        "id": "WCO3kOkg1n3U",
        "outputId": "c733565a-32cc-4800-fd56-dcbeea4cf2f8"
      },
      "source": [
        "list1.insertAt(60,2)\n",
        "list1.showList()"
      ],
      "execution_count": null,
      "outputs": [
        {
          "output_type": "stream",
          "text": [
            "1\n",
            "6\n",
            "60\n",
            "5\n",
            "3\n",
            "10\n"
          ],
          "name": "stdout"
        }
      ]
    },
    {
      "cell_type": "code",
      "metadata": {
        "colab": {
          "base_uri": "https://localhost:8080/"
        },
        "id": "ebA5p4ir6NnD",
        "outputId": "ddb4239e-c888-4ebe-cdf8-7062b382a2cf"
      },
      "source": [
        "arr=[1,6,5,3]\n",
        "l1=myList(arr)\n",
        "l1.searchElement(1)\n"
      ],
      "execution_count": null,
      "outputs": [
        {
          "output_type": "execute_result",
          "data": {
            "text/plain": [
              "True"
            ]
          },
          "metadata": {
            "tags": []
          },
          "execution_count": 142
        }
      ]
    },
    {
      "cell_type": "code",
      "metadata": {
        "colab": {
          "base_uri": "https://localhost:8080/"
        },
        "id": "Ckrbn-_K7m0s",
        "outputId": "dc756972-ebeb-45f6-ede4-b5fa30b47823"
      },
      "source": [
        "l1.sumOf()"
      ],
      "execution_count": null,
      "outputs": [
        {
          "output_type": "execute_result",
          "data": {
            "text/plain": [
              "15"
            ]
          },
          "metadata": {
            "tags": []
          },
          "execution_count": 143
        }
      ]
    },
    {
      "cell_type": "code",
      "metadata": {
        "colab": {
          "base_uri": "https://localhost:8080/"
        },
        "id": "sC0X4Iwt8jiS",
        "outputId": "b5ce7027-9675-4c45-9dd6-3e3f6e3d5c6d"
      },
      "source": [
        "arr=[1,6,5,3,2]\n",
        "l1=myList(arr)\n",
        "l1.evenNum()"
      ],
      "execution_count": null,
      "outputs": [
        {
          "output_type": "stream",
          "text": [
            "6\n",
            "2\n"
          ],
          "name": "stdout"
        }
      ]
    },
    {
      "cell_type": "code",
      "metadata": {
        "colab": {
          "base_uri": "https://localhost:8080/"
        },
        "id": "6d1rZuGh9LXw",
        "outputId": "6993cff7-54e2-4e20-ffd9-160384f68e71"
      },
      "source": [
        "l1.Reverse()"
      ],
      "execution_count": null,
      "outputs": [
        {
          "output_type": "stream",
          "text": [
            "2\n",
            "3\n",
            "5\n",
            "6\n",
            "1\n"
          ],
          "name": "stdout"
        }
      ]
    }
  ]
}