{
  "nbformat": 4,
  "nbformat_minor": 0,
  "metadata": {
    "colab": {
      "name": "Array manipulation.ipynb",
      "provenance": [],
      "collapsed_sections": [],
      "authorship_tag": "ABX9TyPk1LG/d5WPTcjXAB4KqmcM",
      "include_colab_link": true
    },
    "kernelspec": {
      "name": "python3",
      "display_name": "Python 3"
    }
  },
  "cells": [
    {
      "cell_type": "markdown",
      "metadata": {
        "id": "view-in-github",
        "colab_type": "text"
      },
      "source": [
        "<a href=\"https://colab.research.google.com/github/rownak-glitch/Data-Structures-using-python/blob/master/Array_manipulation.ipynb\" target=\"_parent\"><img src=\"https://colab.research.google.com/assets/colab-badge.svg\" alt=\"Open In Colab\"/></a>"
      ]
    },
    {
      "cell_type": "markdown",
      "metadata": {
        "id": "tES2Y3Qenoo-"
      },
      "source": [
        "**Shift left K cells**"
      ]
    },
    {
      "cell_type": "code",
      "metadata": {
        "colab": {
          "base_uri": "https://localhost:8080/"
        },
        "id": "38qddZqnimqp",
        "outputId": "e992a448-f60a-49d6-80c1-2208ebb9f2a7"
      },
      "source": [
        "source=[10,20,30,40,50,60]\n",
        "shift= 3\n",
        "def shiftLeft(array,k):\n",
        "  for i in range (0,shift):\n",
        "    for j in range (0, len(array)-1):\n",
        "      array[j]=array[j+1]\n",
        "    array[len(array)-1]=0\n",
        "\n",
        "  for i in range(0 , len(array)):\n",
        "    print(array[i])\n",
        "\n",
        "shiftLeft(source,shift)\n"
      ],
      "execution_count": null,
      "outputs": [
        {
          "output_type": "stream",
          "text": [
            "40\n",
            "50\n",
            "60\n",
            "0\n",
            "0\n",
            "0\n"
          ],
          "name": "stdout"
        }
      ]
    },
    {
      "cell_type": "markdown",
      "metadata": {
        "id": "anZlVvxknmUj"
      },
      "source": [
        "**Rotate left K cells**"
      ]
    },
    {
      "cell_type": "code",
      "metadata": {
        "colab": {
          "base_uri": "https://localhost:8080/"
        },
        "id": "RdQ1Cfe6n62j",
        "outputId": "32d6e178-f28b-4e5f-9937-e0f8329cdea4"
      },
      "source": [
        "source=[10,20,30,40,50,60]\n",
        "shift= 3\n",
        "def rotateLeft(array,k):\n",
        "  for i in range (0,shift):\n",
        "    temp= array[0] \n",
        "    for j in range (0, len(array)-1):\n",
        "      array[j]=array[j+1]\n",
        "    array[len(array)-1]= temp\n",
        "\n",
        "  for i in range(0 , len(array)):\n",
        "    print(array[i])\n",
        "\n",
        "rotateLeft(source,shift)"
      ],
      "execution_count": null,
      "outputs": [
        {
          "output_type": "stream",
          "text": [
            "40\n",
            "50\n",
            "60\n",
            "10\n",
            "20\n",
            "30\n"
          ],
          "name": "stdout"
        }
      ]
    },
    {
      "cell_type": "markdown",
      "metadata": {
        "id": "IAv1hf7GrORP"
      },
      "source": [
        "**Remove an element from an array**"
      ]
    },
    {
      "cell_type": "code",
      "metadata": {
        "colab": {
          "base_uri": "https://localhost:8080/"
        },
        "id": "JQL2CB7OrNgr",
        "outputId": "1b000fbc-4c04-4825-c581-f899a736d98e"
      },
      "source": [
        "source=[10,20,30,40,50,0,0]\n",
        "def removeElement(array,size,k):\n",
        "  #for i in range(0,len(array)-1):\n",
        "    array[k]= 0\n",
        "    for j in range(k,len(array)-1):\n",
        "       array[j]= array[j+1]\n",
        "\n",
        "    array[len(array)-1]=0\n",
        "\n",
        "    for i in range(0 , len(array)):\n",
        "       print(array[i])\n",
        "\n",
        "removeElement(source,5,2)\n",
        "\n",
        "\n",
        "\n",
        "\n",
        "\n"
      ],
      "execution_count": null,
      "outputs": [
        {
          "output_type": "stream",
          "text": [
            "10\n",
            "20\n",
            "40\n",
            "50\n",
            "0\n",
            "0\n",
            "0\n"
          ],
          "name": "stdout"
        }
      ]
    },
    {
      "cell_type": "markdown",
      "metadata": {
        "id": "SVBFsIgJ5Rtr"
      },
      "source": [
        "**Remove all occurences of an element from an array**"
      ]
    },
    {
      "cell_type": "code",
      "metadata": {
        "colab": {
          "base_uri": "https://localhost:8080/"
        },
        "id": "bYThLcSQ5Q1t",
        "outputId": "c28d0d75-ce03-4309-e5cf-9920b24958c2"
      },
      "source": [
        "source =[10,2,30,2,50,2,2,0,0]\n",
        "def removeAll(array,size,k):\n",
        "  for i in range(0,len(array)-1):\n",
        "    if array[i]==k :\n",
        "      array[i]= 0\n",
        "      for j in range(i,len(array)-1):\n",
        "       array[j]= array[j+1]\n",
        "    array[len(array)-1]=0\n",
        "    if array[i-1]==k:\n",
        "      array[i-1]==0\n",
        "      for j in range(i-1,len(array)-1):\n",
        "        array[j]=array[j+1]\n",
        "      array[len(array)-1]=0\n",
        "\n",
        "\n",
        "  for i in range(0 , len(array)):\n",
        "       print(array[i])\n",
        "\n",
        "removeAll(source,7,2)"
      ],
      "execution_count": null,
      "outputs": [
        {
          "output_type": "stream",
          "text": [
            "10\n",
            "30\n",
            "50\n",
            "0\n",
            "0\n",
            "0\n",
            "0\n",
            "0\n",
            "0\n"
          ],
          "name": "stdout"
        }
      ]
    },
    {
      "cell_type": "markdown",
      "metadata": {
        "id": "S1R7bdS8okNo"
      },
      "source": [
        "**Splitting an array**"
      ]
    },
    {
      "cell_type": "code",
      "metadata": {
        "id": "3Jvhmb8_o201"
      },
      "source": [
        "def splitArray(s):\n",
        "  lsum=0\n",
        "  rsum=0\n",
        "  for i in range(0,int(len(s)/2)+1):\n",
        "    l=s[i]\n",
        "    lsum=lsum+l\n",
        "  for j in range( len(s)-1, int(len(s)/2),-1 ):\n",
        "    r=s[j]\n",
        "    rsum=rsum+ r\n",
        "  if lsum==rsum :\n",
        "    print(\"True\")\n",
        "  else:\n",
        "    print(\"False\")\n"
      ],
      "execution_count": null,
      "outputs": []
    },
    {
      "cell_type": "code",
      "metadata": {
        "colab": {
          "base_uri": "https://localhost:8080/"
        },
        "id": "X0EMVIObE9fj",
        "outputId": "fd0fc1c5-278c-4b67-c3e9-655f33280c66"
      },
      "source": [
        "source=[2,1,1,2,1]\n",
        "splitArray(source)"
      ],
      "execution_count": null,
      "outputs": [
        {
          "output_type": "stream",
          "text": [
            "False\n"
          ],
          "name": "stdout"
        }
      ]
    },
    {
      "cell_type": "code",
      "metadata": {
        "colab": {
          "base_uri": "https://localhost:8080/"
        },
        "id": "VLWfNXQ5GMrM",
        "outputId": "629673c4-fe45-4690-961f-185f4b9ae9af"
      },
      "source": [
        "source=[1,1,1,2,1]\n",
        "splitArray(source)"
      ],
      "execution_count": null,
      "outputs": [
        {
          "output_type": "stream",
          "text": [
            "True\n"
          ],
          "name": "stdout"
        }
      ]
    },
    {
      "cell_type": "markdown",
      "metadata": {
        "id": "9-hlDiQsGheL"
      },
      "source": [
        "**Max Bunch Count**"
      ]
    },
    {
      "cell_type": "code",
      "metadata": {
        "colab": {
          "base_uri": "https://localhost:8080/"
        },
        "id": "Mfzftu9du2WX",
        "outputId": "600b4834-4c91-41be-fc9c-cff8c4772a08"
      },
      "source": [
        "def maxBunch(s):\n",
        "  bcount=1\n",
        "  mcount=0\n",
        "  for i in range(0,bcount):\n",
        "    for i in range(1,len(s)-1):\n",
        "        if s[i]==s[i+1]:\n",
        "          mcount=mcount + 1\n",
        "    if mcount>bcount:\n",
        "      bcount=mcount\n",
        "          \n",
        "    print(bcount)\n",
        "\n",
        "array=[1,1,2,2,1,1,1,1]\n",
        "maxBunch(array)"
      ],
      "execution_count": null,
      "outputs": [
        {
          "output_type": "stream",
          "text": [
            "4\n"
          ],
          "name": "stdout"
        }
      ]
    },
    {
      "cell_type": "code",
      "metadata": {
        "colab": {
          "base_uri": "https://localhost:8080/"
        },
        "id": "QN5YNltnAbAC",
        "outputId": "f0ae02a0-2e6a-418d-fc6a-d23e6dc7566a"
      },
      "source": [
        "array=[1,2,2,3,4,4,4]\n",
        "maxBunch(array)"
      ],
      "execution_count": null,
      "outputs": [
        {
          "output_type": "stream",
          "text": [
            "3\n"
          ],
          "name": "stdout"
        }
      ]
    },
    {
      "cell_type": "markdown",
      "metadata": {
        "id": "IgOtlF23_xdt"
      },
      "source": [
        "**Repetition**"
      ]
    },
    {
      "cell_type": "code",
      "metadata": {
        "colab": {
          "base_uri": "https://localhost:8080/"
        },
        "id": "sFlZlUf0_6fh",
        "outputId": "2889497b-fd12-49d0-891f-75920857c2b5"
      },
      "source": [
        "def repElement(s,c):\n",
        "  \n",
        "  for i in range(0,len(s)):\n",
        "      no =s[i]\n",
        "      c[no]=c[no]+1\n",
        "  for i in range(0,len(c)-1):\n",
        "     print(c[i]) #print the array that contains the number of repetitions\n",
        "  if c[i]!=0 and c[i]!=1 and c[i]==c[i+1]:\n",
        "    print(\"True\")\n",
        "\n",
        "  else:\n",
        "    print(\"False\")\n",
        "\n",
        "a= [3,4,6,3,4,7,4,6,8,6,6]\n",
        "c=[0,0,0,0,0,0,0,0,0,0,0]\n",
        "repElement(a,c)"
      ],
      "execution_count": null,
      "outputs": [
        {
          "output_type": "stream",
          "text": [
            "0\n",
            "0\n",
            "0\n",
            "2\n",
            "3\n",
            "0\n",
            "4\n",
            "1\n",
            "1\n",
            "0\n",
            "False\n"
          ],
          "name": "stdout"
        }
      ]
    },
    {
      "cell_type": "code",
      "metadata": {
        "colab": {
          "base_uri": "https://localhost:8080/"
        },
        "id": "04m0xbeEgaMH",
        "outputId": "2dae039d-d555-4fce-e855-3a71ccfe6930"
      },
      "source": [
        "a= [4,5,6,6,4,3,6,4]\n",
        "c=[0,0,0,0,0,0,0,0]\n",
        "repElement(a,c)"
      ],
      "execution_count": null,
      "outputs": [
        {
          "output_type": "stream",
          "text": [
            "0\n",
            "0\n",
            "0\n",
            "1\n",
            "3\n",
            "1\n",
            "3\n",
            "True\n"
          ],
          "name": "stdout"
        }
      ]
    },
    {
      "cell_type": "markdown",
      "metadata": {
        "id": "rY2X_9ggkuf_"
      },
      "source": [
        "**Palindrome**"
      ]
    },
    {
      "cell_type": "code",
      "metadata": {
        "colab": {
          "base_uri": "https://localhost:8080/"
        },
        "id": "gkQELfJFkt3D",
        "outputId": "9b0acb0e-fab4-4479-e347-5d7cdd316903"
      },
      "source": [
        "arr=[20,10,0,0,0,10,20,30]\n",
        "st=5\n",
        "size=5\n",
        "for i in range(st,len(arr)):\n",
        "   if arr[i]==arr[(st+size-1)%len(arr)]:\n",
        "      print(\"Pali\")\n",
        "   else:\n",
        "      print(\"not\")\n",
        "   i=(i+1)%len(arr)\n",
        "   if i<0:\n",
        "      index=len(arr)-1"
      ],
      "execution_count": null,
      "outputs": [
        {
          "output_type": "stream",
          "text": [
            "Pali\n",
            "not\n",
            "not\n"
          ],
          "name": "stdout"
        }
      ]
    }
  ]
}