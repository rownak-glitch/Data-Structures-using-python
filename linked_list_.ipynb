{
  "nbformat": 4,
  "nbformat_minor": 0,
  "metadata": {
    "colab": {
      "name": "linked list .ipynb",
      "provenance": [],
      "collapsed_sections": [],
      "authorship_tag": "ABX9TyOLXiftXzzqIS6fZXEAMHPQ",
      "include_colab_link": true
    },
    "kernelspec": {
      "name": "python3",
      "display_name": "Python 3"
    },
    "language_info": {
      "name": "python"
    }
  },
  "cells": [
    {
      "cell_type": "markdown",
      "metadata": {
        "id": "view-in-github",
        "colab_type": "text"
      },
      "source": [
        "<a href=\"https://colab.research.google.com/github/rownak-glitch/Data-Structures-using-python/blob/master/linked_list_.ipynb\" target=\"_parent\"><img src=\"https://colab.research.google.com/assets/colab-badge.svg\" alt=\"Open In Colab\"/></a>"
      ]
    },
    {
      "cell_type": "markdown",
      "metadata": {
        "id": "_jfp69wSf0tE"
      },
      "source": [
        "**Creating** **Linked List**"
      ]
    },
    {
      "cell_type": "code",
      "metadata": {
        "colab": {
          "base_uri": "https://localhost:8080/"
        },
        "id": "o8BhLOBSfx6K",
        "outputId": "bb22a58f-69f1-44d2-bcfa-fa799fc85721"
      },
      "source": [
        "class node:\n",
        "  def __init__(self,data,next):\n",
        "    self.data=data\n",
        "    self.next=None\n",
        "\n",
        "class myList:\n",
        "  def __init__(self,a):\n",
        "    self.head=None\n",
        "    self.next=None\n",
        "    tail=None\n",
        "    for i in a:\n",
        "      n= node(i, None)\n",
        "      if self.head is None:\n",
        "        self.head=n\n",
        "        tail=n\n",
        "      else:\n",
        "        tail.next=n\n",
        "        tail=n\n",
        "\n",
        "  def showList(self):\n",
        "    x= self.head\n",
        "    while (x!=None):\n",
        "      print(x.data)\n",
        "      x=x.next\n",
        "\n",
        " \n",
        "\n",
        "  def isEmpty(self):\n",
        "        if self.head is None:\n",
        "            return True\n",
        "        else:\n",
        "            return False\n",
        "\n",
        "  def clear(self):\n",
        "        assert self.head != None, 'The list can not be empty'\n",
        "\n",
        "        x = self.head\n",
        "        while (x!=None):\n",
        "            prev = x.next\n",
        "            del x.data\n",
        "            x = prev\n",
        "\n",
        "  def insert(self, newElement):\n",
        "        newNode = node(newElement,None)\n",
        "        if self.head is None:\n",
        "          self.head = newNode\n",
        "        \n",
        "        last = self.head\n",
        "        while(last.next):\n",
        "            last = last.next\n",
        "\n",
        "        if(last.data == newElement):\n",
        "            print('same key')\n",
        "        else:\n",
        "            last.next = newNode\n",
        "\n",
        "  def insertAt(self, newElement, index):\n",
        "      start = self.head\n",
        "      newNode = node(newElement,None)\n",
        "      if (index == 0):\n",
        "        self.head = newNode\n",
        "        \n",
        "      else:\n",
        "        start = self.head.next\n",
        "\n",
        "        newNode.next= start.next\n",
        "        start.next=newNode\n",
        "          \n",
        "        \n",
        "      if (start.data == newElement):\n",
        "        print('same key')\n",
        "          \n",
        "      else:\n",
        "        start.next = newNode\n",
        "\n",
        "  def remove(self,deletekey):\n",
        "        start = self.head\n",
        "        if (deletekey == 0):\n",
        "            val = start.data\n",
        "            start = start.next\n",
        "            return val\n",
        "        \n",
        "        while (deletekey-1 > 0):\n",
        "            start = start.next\n",
        "            deletekey -= 1\n",
        "        val = start.data # or maybe start.next.data sure na check kore nio\n",
        "        start.next = start.next.next\n",
        "        return val\n",
        "\n",
        "  def searchElement(self,element):\n",
        "    i=0\n",
        "    n=self.head\n",
        "    while (n!=None):\n",
        "      if n.data==element:\n",
        "        return True\n",
        "      else:\n",
        "        return False\n",
        "      i+=1\n",
        "      n=n.next\n",
        "\n",
        "  def evenNum(self):\n",
        "    i=0\n",
        "    n=self.head\n",
        "    newHead=None\n",
        "    newTail=None\n",
        "    while (n!=None):\n",
        "      if n.data % 2==0 :\n",
        "         newNode=node(n.data,None)\n",
        "         if (newHead==None):\n",
        "           newHead=newNode\n",
        "           newTail=newNode\n",
        "         else:\n",
        "           newTail.next=newNode\n",
        "           newTail=newNode\n",
        "      n=n.next\n",
        "    x= newHead\n",
        "    while (x!=None):\n",
        "      print(x.data)\n",
        "      x=x.next\n",
        "\n",
        "\n",
        "  def Reverse(self):\n",
        "    newHead=None\n",
        "    n=self.head\n",
        "    while (n!=None):\n",
        "      nextNode=n.next\n",
        "      n.next=newHead\n",
        "      newHead=n\n",
        "      n=nextNode\n",
        "    x= newHead\n",
        "    while(x!=None):\n",
        "      print(x.data)\n",
        "      x=x.next\n",
        "         \n",
        "  def Sort(self):\n",
        "    head=self.head\n",
        "    if head == None:\n",
        "          return None\n",
        "      #Make the first node the start of the sorted list.\n",
        "    sortedList= head\n",
        "    head=head.next\n",
        "    sortedList.next= None\n",
        "    while head != None:\n",
        "        curr= head\n",
        "        head=head.next\n",
        "        if curr.data<sortedList.data:\n",
        "              #Advance the nodes\n",
        "            curr.next= sortedList\n",
        "            sortedList= curr\n",
        "        else: \n",
        "              #Search list for correct position of current.\n",
        "            search= sortedList\n",
        "            while search.next!= None and curr.data > search.next.data:\n",
        "               search= search.next\n",
        "              #current goes after search.\n",
        "            curr.next= search.next\n",
        "            search.next= curr\n",
        "    x=sortedList\n",
        "    while(x!=None):\n",
        "       print(x.data)\n",
        "       x=x.next\n",
        "    \n",
        "  def sumOf (self):\n",
        "    sum=0\n",
        "    count=0\n",
        "    n=self.head\n",
        "    while (n!=None):\n",
        "      count=count+1\n",
        "      sum=sum + n.data\n",
        "      n=n.next\n",
        "    return sum\n",
        "\n",
        "  def rotate(self):\n",
        "    \n",
        "      oldhead=self.head\n",
        "      head=self.head.next\n",
        "      tail=self.head.next\n",
        "      while (tail!=None):\n",
        "        tail=tail.next\n",
        "      tail.next=oldhead\n",
        "      oldhead.next=None\n",
        "      x=head\n",
        "      while(x!=None):\n",
        "        print(x.data)\n",
        "        x=x.next\n",
        "      \n",
        "    \n",
        "    \n",
        "\n",
        "\n",
        "\n",
        "arr=[1,6,5,3]\n",
        "list1=myList(arr)\n",
        "list1.Sort()\n",
        "\n",
        "\n",
        "\n"
      ],
      "execution_count": null,
      "outputs": [
        {
          "output_type": "stream",
          "text": [
            "1\n",
            "3\n",
            "5\n",
            "6\n"
          ],
          "name": "stdout"
        }
      ]
    },
    {
      "cell_type": "code",
      "metadata": {
        "colab": {
          "base_uri": "https://localhost:8080/"
        },
        "id": "ANUci75S487F",
        "outputId": "2591ca0e-1c99-4561-d40d-555bdc23d7dd"
      },
      "source": [
        "list1.insert(10)\n",
        "list1.showList()"
      ],
      "execution_count": null,
      "outputs": [
        {
          "output_type": "stream",
          "text": [
            "1\n",
            "3\n",
            "5\n",
            "6\n",
            "10\n"
          ],
          "name": "stdout"
        }
      ]
    },
    {
      "cell_type": "code",
      "metadata": {
        "colab": {
          "base_uri": "https://localhost:8080/"
        },
        "id": "WCO3kOkg1n3U",
        "outputId": "869ba29e-cc69-4b22-df5a-b8bd5f598882"
      },
      "source": [
        "list1.insertAt(60,2)\n",
        "list1.showList()"
      ],
      "execution_count": null,
      "outputs": [
        {
          "output_type": "stream",
          "text": [
            "1\n",
            "3\n",
            "60\n",
            "5\n",
            "6\n",
            "10\n"
          ],
          "name": "stdout"
        }
      ]
    },
    {
      "cell_type": "code",
      "metadata": {
        "colab": {
          "base_uri": "https://localhost:8080/"
        },
        "id": "ebA5p4ir6NnD",
        "outputId": "f1a124f7-dc81-483a-c87c-1bb836f791fb"
      },
      "source": [
        "arr=[1,6,5,3]\n",
        "l1=myList(arr)\n",
        "l1.searchElement(1)\n"
      ],
      "execution_count": null,
      "outputs": [
        {
          "output_type": "execute_result",
          "data": {
            "text/plain": [
              "True"
            ]
          },
          "metadata": {
            "tags": []
          },
          "execution_count": 161
        }
      ]
    },
    {
      "cell_type": "code",
      "metadata": {
        "colab": {
          "base_uri": "https://localhost:8080/"
        },
        "id": "Ckrbn-_K7m0s",
        "outputId": "d6ffab31-5e29-4614-8a65-47fef42b215b"
      },
      "source": [
        "l1.sumOf()"
      ],
      "execution_count": null,
      "outputs": [
        {
          "output_type": "execute_result",
          "data": {
            "text/plain": [
              "15"
            ]
          },
          "metadata": {
            "tags": []
          },
          "execution_count": 162
        }
      ]
    },
    {
      "cell_type": "code",
      "metadata": {
        "colab": {
          "base_uri": "https://localhost:8080/"
        },
        "id": "sC0X4Iwt8jiS",
        "outputId": "3a66e858-205d-47be-e5da-d83dd10d47f3"
      },
      "source": [
        "arr=[1,6,5,3,2]\n",
        "l1=myList(arr)\n",
        "l1.evenNum()"
      ],
      "execution_count": null,
      "outputs": [
        {
          "output_type": "stream",
          "text": [
            "6\n",
            "2\n"
          ],
          "name": "stdout"
        }
      ]
    },
    {
      "cell_type": "code",
      "metadata": {
        "colab": {
          "base_uri": "https://localhost:8080/"
        },
        "id": "6d1rZuGh9LXw",
        "outputId": "c05c40ce-da92-440d-fac1-ab3688257a49"
      },
      "source": [
        "l1.Reverse()"
      ],
      "execution_count": null,
      "outputs": [
        {
          "output_type": "stream",
          "text": [
            "2\n",
            "3\n",
            "5\n",
            "6\n",
            "1\n"
          ],
          "name": "stdout"
        }
      ]
    },
    {
      "cell_type": "code",
      "metadata": {
        "colab": {
          "base_uri": "https://localhost:8080/",
          "height": 279
        },
        "id": "6ngPNI-o_1k4",
        "outputId": "73344a7e-c03e-4c83-9edd-512bd313291c"
      },
      "source": [
        "l1.rotate()"
      ],
      "execution_count": null,
      "outputs": [
        {
          "output_type": "error",
          "ename": "AttributeError",
          "evalue": "ignored",
          "traceback": [
            "\u001b[0;31m---------------------------------------------------------------------------\u001b[0m",
            "\u001b[0;31mAttributeError\u001b[0m                            Traceback (most recent call last)",
            "\u001b[0;32m<ipython-input-165-dfd133ac91c8>\u001b[0m in \u001b[0;36m<module>\u001b[0;34m()\u001b[0m\n\u001b[0;32m----> 1\u001b[0;31m \u001b[0ml1\u001b[0m\u001b[0;34m.\u001b[0m\u001b[0mrotate\u001b[0m\u001b[0;34m(\u001b[0m\u001b[0;34m)\u001b[0m\u001b[0;34m\u001b[0m\u001b[0;34m\u001b[0m\u001b[0m\n\u001b[0m",
            "\u001b[0;32m<ipython-input-158-475b5a9021a0>\u001b[0m in \u001b[0;36mrotate\u001b[0;34m(self)\u001b[0m\n\u001b[1;32m    178\u001b[0m       \u001b[0;32mwhile\u001b[0m \u001b[0;34m(\u001b[0m\u001b[0mtail\u001b[0m\u001b[0;34m!=\u001b[0m\u001b[0;32mNone\u001b[0m\u001b[0;34m)\u001b[0m\u001b[0;34m:\u001b[0m\u001b[0;34m\u001b[0m\u001b[0;34m\u001b[0m\u001b[0m\n\u001b[1;32m    179\u001b[0m         \u001b[0mtail\u001b[0m\u001b[0;34m=\u001b[0m\u001b[0mtail\u001b[0m\u001b[0;34m.\u001b[0m\u001b[0mnext\u001b[0m\u001b[0;34m\u001b[0m\u001b[0;34m\u001b[0m\u001b[0m\n\u001b[0;32m--> 180\u001b[0;31m       \u001b[0mtail\u001b[0m\u001b[0;34m.\u001b[0m\u001b[0mnext\u001b[0m\u001b[0;34m=\u001b[0m\u001b[0moldhead\u001b[0m\u001b[0;34m\u001b[0m\u001b[0;34m\u001b[0m\u001b[0m\n\u001b[0m\u001b[1;32m    181\u001b[0m       \u001b[0moldhead\u001b[0m\u001b[0;34m.\u001b[0m\u001b[0mnext\u001b[0m\u001b[0;34m=\u001b[0m\u001b[0;32mNone\u001b[0m\u001b[0;34m\u001b[0m\u001b[0;34m\u001b[0m\u001b[0m\n\u001b[1;32m    182\u001b[0m       \u001b[0mx\u001b[0m\u001b[0;34m=\u001b[0m\u001b[0mhead\u001b[0m\u001b[0;34m\u001b[0m\u001b[0;34m\u001b[0m\u001b[0m\n",
            "\u001b[0;31mAttributeError\u001b[0m: 'NoneType' object has no attribute 'next'"
          ]
        }
      ]
    }
  ]
}